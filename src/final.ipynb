{
 "cells": [
  {
   "cell_type": "markdown",
   "id": "3fb79605",
   "metadata": {},
   "source": [
    "# Outline\n",
    "1. Parse json to \n",
    "1. Do separate class_pcollection: asset1, asset2\n",
    "1. split class_pcollections: train_asset1/2, eval_asset1/2\n",
    "1. aggregate to TRAIN, TEST"
   ]
  },
  {
   "cell_type": "code",
   "execution_count": null,
   "id": "58fad258",
   "metadata": {},
   "outputs": [],
   "source": [
    "class mapquery(beam.DoFn):\n",
    "    def process(self, element):\n",
    "        key = element[0]\n",
    "        value = element[1]\n",
    "        yield key, value\n",
    "#beam.GroupByKey()\n",
    "# beam.combiners.Count.Globally() return number of rows\n",
    "\n",
    "with beam.Pipeline() as p:\n",
    "    res = (p | beam.io.ReadFromText(\"my_data.txt\")\n",
    "        | beam.Map(json.loads) | beam.Map(lambda x:some(**x)).with_output_types(some)\n",
    "        | beam.ParDo(mapquery()) | beam.combiners.Count.PerKey()\n",
    "          )\n",
    "    res | beam.Map(print)\n",
    "\n",
    "# | beam.ParDo(mapquery()) |beam.combiners.Count.PerKey()\n",
    "# ('asset_1', 57)\n",
    "# ('asset_2', 57)\n",
    "# | beam.ParDo(mapquery()) | beam.combiners.Count.Globally()\n",
    "# 114"
   ]
  },
  {
   "cell_type": "markdown",
   "id": "cdfdab5b",
   "metadata": {},
   "source": [
    "# dataframe transfrom"
   ]
  },
  {
   "cell_type": "code",
   "execution_count": 1,
   "id": "75a0311c",
   "metadata": {},
   "outputs": [
    {
     "name": "stderr",
     "output_type": "stream",
     "text": [
      "WARNING:apache_beam.runners.interactive.interactive_environment:Dependencies required for Interactive Beam PCollection visualization are not available, please use: `pip install apache-beam[interactive]` to install necessary dependencies to enable all data visualization features.\n"
     ]
    },
    {
     "data": {
      "application/javascript": [
       "\n",
       "        if (typeof window.interactive_beam_jquery == 'undefined') {\n",
       "          var jqueryScript = document.createElement('script');\n",
       "          jqueryScript.src = 'https://code.jquery.com/jquery-3.4.1.slim.min.js';\n",
       "          jqueryScript.type = 'text/javascript';\n",
       "          jqueryScript.onload = function() {\n",
       "            var datatableScript = document.createElement('script');\n",
       "            datatableScript.src = 'https://cdn.datatables.net/1.10.20/js/jquery.dataTables.min.js';\n",
       "            datatableScript.type = 'text/javascript';\n",
       "            datatableScript.onload = function() {\n",
       "              window.interactive_beam_jquery = jQuery.noConflict(true);\n",
       "              window.interactive_beam_jquery(document).ready(function($){\n",
       "                \n",
       "              });\n",
       "            }\n",
       "            document.head.appendChild(datatableScript);\n",
       "          };\n",
       "          document.head.appendChild(jqueryScript);\n",
       "        } else {\n",
       "          window.interactive_beam_jquery(document).ready(function($){\n",
       "            \n",
       "          });\n",
       "        }"
      ]
     },
     "metadata": {},
     "output_type": "display_data"
    },
    {
     "name": "stderr",
     "output_type": "stream",
     "text": [
      "WARNING:root:Make sure that locally built Python SDK docker image has Python 3.7 interpreter.\n"
     ]
    }
   ],
   "source": [
    "#setup\n",
    "import apache_beam as beam\n",
    "import json\n",
    "import typing\n",
    "from apache_beam.dataframe.transforms import DataframeTransform\n",
    "from apache_beam.dataframe.convert import to_dataframe\n",
    "from apache_beam.dataframe.convert import to_pcollection\n",
    "\n",
    "#set schema for a json element\n",
    "class some(typing.NamedTuple):\n",
    "    classes: str\n",
    "    value: float\n",
    "\n",
    "beam.coders.registry.register_coder(some, beam.coders.RowCoder)\n",
    "\n",
    "#ouput folder\n",
    "train_output_filename = \"./result2/train/data.json\"\n",
    "eval_output_filename = \"./result2/eval/data.json\"\n",
    "\n",
    "#splitting Pcollection\n",
    "def split_dataset(elem, num_partitions, ratio):\n",
    "    assert num_partitions == len(ratio)\n",
    "    bucket = sum(map(ord, json.dumps(elem))) % sum(ratio)\n",
    "    total = 0\n",
    "    for i, part in enumerate(ratio):\n",
    "        total += part\n",
    "        if bucket < total:\n",
    "            return i\n",
    "    return len(ratio) - 1\n",
    "\n",
    "\n",
    "#pipeline\n",
    "with beam.Pipeline() as pdf:\n",
    "    res = (pdf | \"reading json file\">>beam.io.ReadFromText(\"my_data.json\")\n",
    "        |\"loading json\">> beam.Map(json.loads) | beam.Map(lambda x:some(**x)).with_output_types(some))\n",
    "    #converting to datafram\n",
    "    df = to_dataframe(res)\n",
    "    #creating df according to classes\n",
    "    df1 = df.loc[df['classes']=='asset_1']\n",
    "    df2 = df.loc[df['classes']=='asset_2']\n",
    "    #Pcollections\n",
    "    train_1,eval_1 = (to_pcollection(df1) | 'Partition1' >> beam.Partition(split_dataset, 2, ratio=[7, 3]))\n",
    "    train_2,eval_2 = (to_pcollection(df2) | 'Partition2' >> beam.Partition(split_dataset, 2, ratio=[7, 3]))\n",
    "\n",
    "    TRAIN = ((train_1,train_2) | \"aggregate train\">>beam.Flatten())\n",
    "    EVAL = ((eval_1,eval_2)|\"aggregate eval\">> beam.Flatten())\n",
    "    \n",
    "    output = (TRAIN|\"write to train\">>beam.io.WriteToText(train_output_filename))\n",
    "    output = (EVAL|\"write to eval\">>beam.io.WriteToText(eval_output_filename))"
   ]
  },
  {
   "cell_type": "code",
   "execution_count": null,
   "id": "7cd69a8d",
   "metadata": {},
   "outputs": [],
   "source": []
  },
  {
   "cell_type": "code",
   "execution_count": null,
   "id": "b80ac601",
   "metadata": {
    "jupyter": {
     "source_hidden": true
    }
   },
   "outputs": [],
   "source": [
    "train_output_filename = \"./train/data.json\"\n",
    "eval_output_filename = \"./eval/data.json\"\n",
    "\n",
    "def split_dataset(elem, num_partitions, ratio):\n",
    "    assert num_partitions == len(ratio)\n",
    "    bucket = sum(map(ord, json.dumps(elem))) % sum(ratio)\n",
    "    total = 0\n",
    "    for i, part in enumerate(ratio):\n",
    "        total += part\n",
    "        if bucket < total:\n",
    "            return i\n",
    "    return len(ratio) - 1\n",
    "\n",
    "\n",
    "with beam.Pipeline() as pdf:\n",
    "    res = (pdf | beam.io.ReadFromText(\"my_data.json\")\n",
    "        | beam.Map(json.loads) | beam.Map(lambda x:some(**x)).with_output_types(some))\n",
    "    #just for one class\n",
    "    df = to_dataframe(res)\n",
    "    df1 = df.loc[df['classes']=='asset_1']\n",
    "    df2 = df.loc[df['classes']=='asset_2']\n",
    "    #Pcollections\n",
    "    train_1,eval_1 = (to_pcollection(df1) | 'Partition1' >> beam.Partition(split_dataset, 2, ratio=[7, 3]))\n",
    "    train_2,eval_2 = (to_pcollection(df2) | 'Partition2' >> beam.Partition(split_dataset, 2, ratio=[7, 3]))\n",
    "\n",
    "    TRAIN = ((train_1,train_2) | \"aggregate train\">>beam.Flatten())\n",
    "    EVAL = ((eval_1,eval_2)|\"aggregate eval\">> beam.Flatten())\n",
    "    \n",
    "    output = (TRAIN|\"write to train\">>beam.io.WriteToText(train_output_filename))\n",
    "    output = (EVAL|\"write to eval\">>beam.io.WriteToText(eval_output_filename))"
   ]
  }
 ],
 "metadata": {
  "kernelspec": {
   "display_name": "Python 3",
   "language": "python",
   "name": "python3"
  },
  "language_info": {
   "codemirror_mode": {
    "name": "ipython",
    "version": 3
   },
   "file_extension": ".py",
   "mimetype": "text/x-python",
   "name": "python",
   "nbconvert_exporter": "python",
   "pygments_lexer": "ipython3",
   "version": "3.7.6"
  }
 },
 "nbformat": 4,
 "nbformat_minor": 5
}
