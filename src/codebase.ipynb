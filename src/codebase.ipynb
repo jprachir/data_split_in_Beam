{
 "cells": [
  {
   "cell_type": "markdown",
   "id": "fe4e5658",
   "metadata": {},
   "source": [
    "# Batch processing using Apache Beam - Python SDK\n",
    "## A Python Pipeline with dataframe transform\n",
    "0. Please download the new/input data from generate.py\n",
    "1. I selected Apache Beam which is dedicated to batch processing and more. \n",
    "\n",
    "2. In this notebook, I set up the the environment and work through a naive approach using the DirectRunner (local compute power)\n",
    "\n",
    "- General Logic\n",
    "\n",
    " - Start of the pipeline: Determines the what kind of `Read` transform I'll have to apply\n",
    " - What does data look like: determines how to represent in pipeline's PCollection, in our case json element has schema\n",
    " - What I want to do with data: data processing like parsing and splitting 70/30 for each class\n",
    " - What does my output data look like, and where should it go: Write transforms to json format"
   ]
  },
  {
   "cell_type": "markdown",
   "id": "06338277",
   "metadata": {},
   "source": [
    "### Beam Pipeline"
   ]
  },
  {
   "cell_type": "markdown",
   "id": "8abc3794",
   "metadata": {},
   "source": [
    "<img src=\"../img/beam_pipeline.jpg\">"
   ]
  },
  {
   "cell_type": "markdown",
   "id": "2f07cc7b",
   "metadata": {},
   "source": [
    "# Pipeling design"
   ]
  },
  {
   "cell_type": "code",
   "execution_count": 17,
   "id": "78b315ea",
   "metadata": {},
   "outputs": [],
   "source": [
    "#setup \n",
    "import apache_beam as beam\n",
    "import json\n",
    "from apache_beam.dataframe.transforms import DataframeTransform\n",
    "from apache_beam.dataframe.convert import to_dataframe\n",
    "from apache_beam.dataframe.convert import to_pcollection"
   ]
  },
  {
   "cell_type": "code",
   "execution_count": 17,
   "id": "746a8b2e",
   "metadata": {},
   "outputs": [],
   "source": [
    "#ouput folder: where to save files\n",
    "train_output_filename = \"./result1/train/data.json\"\n",
    "eval_output_filename = \"./result1/eval/data.json\""
   ]
  },
  {
   "cell_type": "code",
   "execution_count": 17,
   "id": "3878ceac",
   "metadata": {},
   "outputs": [],
   "source": [
    "#A Dataframe Transform requires input PCollections to have a schema\n",
    "#set schema for a json element\n",
    "class applying_schema(typing.NamedTuple):\n",
    "    \"\"\"Represents a Json element with schema (classes and value).\"\"\"\n",
    "    classes: str\n",
    "    value: float\n",
    "beam.coders.registry.register_coder(applying_schema, beam.coders.RowCoder)"
   ]
  },
  {
   "cell_type": "code",
   "execution_count": 17,
   "id": "efd62bb9",
   "metadata": {},
   "outputs": [],
   "source": [
    "# splitting Pcollection.\n",
    "def split_dataset(elem, num_partitions, ratio):\n",
    "    \"\"\"Returns splitted pcoll\n",
    "    Arg1: elem: the element being processed\n",
    "    Arg2: num_partitions: How many partitions \n",
    "    Arg3: ratio: ratio of splitting\n",
    "    Returns: The processed pcoll\n",
    "    \"\"\"\n",
    "    assert num_partitions == len(ratio)\n",
    "    bucket = sum(map(ord, json.dumps(elem))) % sum(ratio)\n",
    "    total = 0\n",
    "    for i, part in enumerate(ratio):\n",
    "        total += part\n",
    "        if bucket < total:\n",
    "            return i\n",
    "    return len(ratio) - 1"
   ]
  },
  {
   "cell_type": "code",
   "execution_count": 17,
   "id": "2ad3e9cf",
   "metadata": {},
   "outputs": [
    {
     "name": "stderr",
     "output_type": "stream",
     "text": [
      "WARNING:root:Make sure that locally built Python SDK docker image has Python 3.7 interpreter.\n"
     ]
    }
   ],
   "source": [
    "# Create a pipeline.\n",
    "with beam.Pipeline() as pdf:\n",
    "    # res is a Pcollection\n",
    "    res = (pdf \n",
    "            |\"reading json file\" >> beam.io.ReadFromText(\"./my_data.json\")\n",
    "            |\"loading json\" >> beam.Map(json.loads) \n",
    "            |\"applying schema\" >> beam.Map(lambda x:applying_schema(**x)).with_output_types(applying_schema))\n",
    "    \n",
    "    \n",
    "    # Converting to a beam dataframe    \n",
    "    df = to_dataframe(res)\n",
    "    \n",
    "    \n",
    "    # Two dataframes for each classes\n",
    "    df1 = df.loc[df['classes']=='asset_1']\n",
    "    df2 = df.loc[df['classes']=='asset_2']\n",
    "    \n",
    "    \n",
    "    # Converting again to Pcollections to apply Partition (70/30) function\n",
    "    # For asset_1 class\n",
    "    train_1,eval_1 = (to_pcollection(df1) \n",
    "                      | 'Partition1' >> beam.Partition(split_dataset, 2, ratio=[7, 3]))\n",
    "    # For asset_2 class\n",
    "    train_2,eval_2 = (to_pcollection(df2) \n",
    "                      | 'Partition2' >> beam.Partition(split_dataset, 2, ratio=[7, 3]))\n",
    "\n",
    "    \n",
    "    # Aggregating 70/30 partition for each class to pcol\n",
    "    #aggregating train and eval for asset_1 class\n",
    "    TRAIN = ((train_1,train_2) |\"aggregate train\" >> beam.Flatten())\n",
    "    #aggregating train and eval for asset_2 class\n",
    "    EVAL = ((eval_1,eval_2)|\"aggregate eval\" >> beam.Flatten())\n",
    "    \n",
    "    \n",
    "    # Writing each pcol to json files\n",
    "    # Saving TRAIN data for each class to output folder result\n",
    "    result1 = (TRAIN|\"write to train\" >> beam.io.WriteToText(train_output_filename))\n",
    "    # Saving EVAL data for each class to output folder result\n",
    "    result1 = (EVAL|\"write to eval\" >> beam.io.WriteToText(eval_output_filename))"
   ]
  }
 ],
 "metadata": {
  "kernelspec": {
   "display_name": "Python 3",
   "language": "python",
   "name": "python3"
  },
  "language_info": {
   "codemirror_mode": {
    "name": "ipython",
    "version": 3
   },
   "file_extension": ".py",
   "mimetype": "text/x-python",
   "name": "python",
   "nbconvert_exporter": "python",
   "pygments_lexer": "ipython3",
   "version": "3.7.6"
  }
 },
 "nbformat": 4,
 "nbformat_minor": 5
}
