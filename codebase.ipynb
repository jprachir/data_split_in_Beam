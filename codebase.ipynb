{
 "cells": [
  {
   "cell_type": "markdown",
   "id": "ae1474e5",
   "metadata": {},
   "source": [
    "# Batch processing using Apache Beam - Python SDK\n",
    "## A Python Pipeline with dataframe transform\n",
    "0. Please download the new/input data from generate.py\n",
    "1. I selected Apache Beam which is dedicated to batch processing and more. \n",
    "\n",
    "2. In this notebook, I set up the the environment and work through a naive approach using the DirectRunner (local compute power)\n",
    "\n",
    "- General Logic\n",
    "\n",
    " - Start of the pipeline: Determines the what kind of `Read` transform I'll have to apply\n",
    " - What does data look like: determines how to represent in pipeline's PCollection, in our case json element has schema\n",
    " - What I want to do with data: data processing like parsing and splitting 70/30 for each class\n",
    " - What does my output data look like, and where should it go: Write transforms to json format"
   ]
  },
  {
   "cell_type": "markdown",
   "id": "21735a8d",
   "metadata": {},
   "source": [
    "### Beam Pipeline"
   ]
  },
  {
   "cell_type": "markdown",
   "id": "023548aa",
   "metadata": {},
   "source": [
    "<img src=\"img/beam_pipeline.jpg\">"
   ]
  },
  {
   "cell_type": "markdown",
   "id": "9bdf505a",
   "metadata": {},
   "source": [
    "# Pipeling design"
   ]
  },
  {
   "cell_type": "code",
   "execution_count": 17,
   "id": "9a5bce0e",
   "metadata": {},
   "outputs": [
    {
     "name": "stderr",
     "output_type": "stream",
     "text": [
      "WARNING:root:Make sure that locally built Python SDK docker image has Python 3.7 interpreter.\n"
     ]
    }
   ],
   "source": [
    "#setup \n",
    "import apache_beam as beam\n",
    "import json\n",
    "from apache_beam.dataframe.transforms import DataframeTransform\n",
    "from apache_beam.dataframe.convert import to_dataframe\n",
    "from apache_beam.dataframe.convert import to_pcollection\n",
    "\n",
    "\n",
    "#ouput folder: where to save files\n",
    "train_output_filename = \"./result1/train/data.json\"\n",
    "eval_output_filename = \"./result1/eval/data.json\"\n",
    "\n",
    "\n",
    "#A Dataframe Transform requires input PCollections to have a schema\n",
    "#set schema for a json element\n",
    "class applying_schema(typing.NamedTuple):\n",
    "    \"\"\"Represents a Json element with schema (classes and value).\"\"\"\n",
    "    classes: str\n",
    "    value: float\n",
    "beam.coders.registry.register_coder(applying_schema, beam.coders.RowCoder)\n",
    "\n",
    "\n",
    "# splitting Pcollection.\n",
    "def split_dataset(elem, num_partitions, ratio):\n",
    "    \"\"\"Returns splitted pcoll\n",
    "    Arg1: elem: the element being processed\n",
    "    Arg2: num_partitions: How many partitions \n",
    "    Arg3: ratio: ratio of splitting\n",
    "    Returns: The processed pcoll\n",
    "    \"\"\"\n",
    "    assert num_partitions == len(ratio)\n",
    "    bucket = sum(map(ord, json.dumps(elem))) % sum(ratio)\n",
    "    total = 0\n",
    "    for i, part in enumerate(ratio):\n",
    "        total += part\n",
    "        if bucket < total:\n",
    "            return i\n",
    "    return len(ratio) - 1\n",
    "\n",
    "\n",
    "# Create a pipeline.\n",
    "with beam.Pipeline() as pdf:\n",
    "    # res is a Pcollection\n",
    "    res = (pdf \n",
    "            |\"reading json file\" >> beam.io.ReadFromText(\"./my_data.json\")\n",
    "            |\"loading json\" >> beam.Map(json.loads) \n",
    "            |\"applying schema\" >> beam.Map(lambda x:applying_schema(**x)).with_output_types(applying_schema))\n",
    "    \n",
    "    \n",
    "    # Converting to a beam dataframe    \n",
    "    df = to_dataframe(res)\n",
    "    \n",
    "    \n",
    "    # Two dataframes for each classes\n",
    "    df1 = df.loc[df['classes']=='asset_1']\n",
    "    df2 = df.loc[df['classes']=='asset_2']\n",
    "    \n",
    "    \n",
    "    # Converting again to Pcollections to apply Partition (70/30) function\n",
    "    # For asset_1 class\n",
    "    train_1,eval_1 = (to_pcollection(df1) \n",
    "                      | 'Partition1' >> beam.Partition(split_dataset, 2, ratio=[7, 3]))\n",
    "    # For asset_2 class\n",
    "    train_2,eval_2 = (to_pcollection(df2) \n",
    "                      | 'Partition2' >> beam.Partition(split_dataset, 2, ratio=[7, 3]))\n",
    "\n",
    "    \n",
    "    # Aggregating 70/30 partition for each class to pcol\n",
    "    #aggregating train and eval for asset_1 class\n",
    "    TRAIN = ((train_1,train_2) |\"aggregate train\" >> beam.Flatten())\n",
    "    #aggregating train and eval for asset_2 class\n",
    "    EVAL = ((eval_1,eval_2)|\"aggregate eval\" >> beam.Flatten())\n",
    "    \n",
    "    \n",
    "    # Writing each pcol to json files\n",
    "    # Saving TRAIN data for each class to output folder result\n",
    "    result1 = (TRAIN|\"write to train\" >> beam.io.WriteToText(train_output_filename))\n",
    "    # Saving EVAL data for each class to output folder result\n",
    "    result1 = (EVAL|\"write to eval\" >> beam.io.WriteToText(eval_output_filename))"
   ]
  },
  {
   "cell_type": "code",
   "execution_count": 18,
   "id": "c0a6eef4",
   "metadata": {},
   "outputs": [
    {
     "ename": "AttributeError",
     "evalue": "module 'typing' has no attribute '__version__'",
     "output_type": "error",
     "traceback": [
      "\u001b[0;31m---------------------------------------------------------------------------\u001b[0m",
      "\u001b[0;31mAttributeError\u001b[0m                            Traceback (most recent call last)",
      "\u001b[0;32m<ipython-input-18-735c9efd5763>\u001b[0m in \u001b[0;36m<module>\u001b[0;34m\u001b[0m\n\u001b[0;32m----> 1\u001b[0;31m \u001b[0mtyping\u001b[0m\u001b[0;34m.\u001b[0m\u001b[0m__version__\u001b[0m\u001b[0;34m\u001b[0m\u001b[0;34m\u001b[0m\u001b[0m\n\u001b[0m",
      "\u001b[0;31mAttributeError\u001b[0m: module 'typing' has no attribute '__version__'"
     ]
    }
   ],
   "source": [
    "typing.__version__"
   ]
  },
  {
   "cell_type": "code",
   "execution_count": 16,
   "id": "e3f05fbe",
   "metadata": {
    "collapsed": true,
    "jupyter": {
     "outputs_hidden": true
    }
   },
   "outputs": [
    {
     "ename": "NotImplementedError",
     "evalue": "Indexing with a non-bool deferred frame is not yet supported. Consider using df.loc[...]",
     "output_type": "error",
     "traceback": [
      "\u001b[0;31m---------------------------------------------------------------------------\u001b[0m",
      "\u001b[0;31mNotImplementedError\u001b[0m                       Traceback (most recent call last)",
      "\u001b[0;32m<ipython-input-16-1ac1e66d2ac7>\u001b[0m in \u001b[0;36m<module>\u001b[0;34m\u001b[0m\n\u001b[1;32m     51\u001b[0m     \u001b[0;31m# Converting to a beam dataframe\u001b[0m\u001b[0;34m\u001b[0m\u001b[0;34m\u001b[0m\u001b[0;34m\u001b[0m\u001b[0m\n\u001b[1;32m     52\u001b[0m     \u001b[0mdf\u001b[0m \u001b[0;34m=\u001b[0m \u001b[0mto_dataframe\u001b[0m\u001b[0;34m(\u001b[0m\u001b[0mres\u001b[0m\u001b[0;34m)\u001b[0m\u001b[0;34m\u001b[0m\u001b[0;34m\u001b[0m\u001b[0m\n\u001b[0;32m---> 53\u001b[0;31m     \u001b[0mprint\u001b[0m\u001b[0;34m(\u001b[0m\u001b[0muni\u001b[0m\u001b[0;34m(\u001b[0m\u001b[0mdf\u001b[0m\u001b[0;34m)\u001b[0m\u001b[0;34m)\u001b[0m\u001b[0;34m\u001b[0m\u001b[0;34m\u001b[0m\u001b[0m\n\u001b[0m\u001b[1;32m     54\u001b[0m \u001b[0;34m\u001b[0m\u001b[0m\n\u001b[1;32m     55\u001b[0m     \u001b[0;31m# Two dataframes for each classes\u001b[0m\u001b[0;34m\u001b[0m\u001b[0;34m\u001b[0m\u001b[0;34m\u001b[0m\u001b[0m\n",
      "\u001b[0;32m<ipython-input-16-1ac1e66d2ac7>\u001b[0m in \u001b[0;36muni\u001b[0;34m(df_col)\u001b[0m\n\u001b[1;32m     39\u001b[0m \u001b[0;34m\u001b[0m\u001b[0m\n\u001b[1;32m     40\u001b[0m \u001b[0;32mdef\u001b[0m \u001b[0muni\u001b[0m\u001b[0;34m(\u001b[0m\u001b[0mdf_col\u001b[0m\u001b[0;34m)\u001b[0m\u001b[0;34m:\u001b[0m\u001b[0;34m\u001b[0m\u001b[0;34m\u001b[0m\u001b[0m\n\u001b[0;32m---> 41\u001b[0;31m     \u001b[0;32mreturn\u001b[0m \u001b[0mset\u001b[0m\u001b[0;34m(\u001b[0m\u001b[0mdf\u001b[0m\u001b[0;34m[\u001b[0m\u001b[0mdf_col\u001b[0m\u001b[0;34m]\u001b[0m\u001b[0;34m)\u001b[0m\u001b[0;34m\u001b[0m\u001b[0;34m\u001b[0m\u001b[0m\n\u001b[0m\u001b[1;32m     42\u001b[0m \u001b[0;34m\u001b[0m\u001b[0m\n\u001b[1;32m     43\u001b[0m     \u001b[0;31m# Create a pipeline.\u001b[0m\u001b[0;34m\u001b[0m\u001b[0;34m\u001b[0m\u001b[0;34m\u001b[0m\u001b[0m\n",
      "\u001b[0;32m~/opt/anaconda3/lib/python3.7/site-packages/apache_beam/dataframe/frames.py\u001b[0m in \u001b[0;36m__getitem__\u001b[0;34m(self, key)\u001b[0m\n\u001b[1;32m   1500\u001b[0m       \u001b[0;31m# key in self._expr.proxy().columns\u001b[0m\u001b[0;34m\u001b[0m\u001b[0;34m\u001b[0m\u001b[0;34m\u001b[0m\u001b[0m\n\u001b[1;32m   1501\u001b[0m       raise NotImplementedError(\n\u001b[0;32m-> 1502\u001b[0;31m           \u001b[0;34m\"Indexing with a non-bool deferred frame is not yet supported. \"\u001b[0m\u001b[0;34m\u001b[0m\u001b[0;34m\u001b[0m\u001b[0m\n\u001b[0m\u001b[1;32m   1503\u001b[0m           \"Consider using df.loc[...]\")\n\u001b[1;32m   1504\u001b[0m \u001b[0;34m\u001b[0m\u001b[0m\n",
      "\u001b[0;31mNotImplementedError\u001b[0m: Indexing with a non-bool deferred frame is not yet supported. Consider using df.loc[...]"
     ]
    }
   ],
   "source": [
    "#setup \n",
    "import apache_beam as beam\n",
    "import json\n",
    "import typing\n",
    "from apache_beam.dataframe.transforms import DataframeTransform\n",
    "from apache_beam.dataframe.convert import to_dataframe\n",
    "from apache_beam.dataframe.convert import to_pcollection\n",
    "\n",
    "\n",
    "#ouput folder\n",
    "train_output_filename = \"./train/data.json\"\n",
    "eval_output_filename = \"./eval/data.json\"\n",
    "\n",
    "\n",
    "#A Dataframe Transform requires input PCollections to have a schema\n",
    "#set schema for a json element\n",
    "class applying_schema(typing.NamedTuple):\n",
    "    classes: str\n",
    "    value: float\n",
    "beam.coders.registry.register_coder(applying_schema, beam.coders.RowCoder)\n",
    "\n",
    "\n",
    "# splitting Pcollection.\n",
    "def split_dataset(self, elem, num_partitions, ratio):\n",
    "    \"\"\"Returns splitted pcoll\n",
    "    Arg1: elem: the element being processed\n",
    "    Arg2: num_partitions: How many partitions \n",
    "    Arg3: ratio: ratio of splitting\n",
    "    Returns: The processed pcoll\n",
    "    \"\"\"\n",
    "    assert num_partitions == len(ratio)\n",
    "    bucket = sum(map(ord, json.dumps(elem))) % sum(ratio)\n",
    "    total = 0\n",
    "    for i, part in enumerate(ratio):\n",
    "        total += part\n",
    "        if bucket < total:\n",
    "            return i\n",
    "    return len(ratio) - 1\n",
    "\n",
    "def uni(df_col):\n",
    "    return set(df[df_col])\n",
    "\n",
    "    # Create a pipeline.\n",
    "with beam.Pipeline() as pdf:\n",
    "    res = (pdf \n",
    "            |\"reading json file\" >> beam.io.ReadFromText(\"./my_data.json\")\n",
    "            |\"loading json\" >> beam.Map(json.loads) \n",
    "            |\"applying schema for a json element\" >> beam.Map(lambda x:applying_schema(**x)).with_output_types(applying_schema))\n",
    "    \n",
    "    \n",
    "    # Converting to a beam dataframe    \n",
    "    df = to_dataframe(res)\n",
    "    \n",
    "    df | \n",
    "    \n",
    "    "
   ]
  },
  {
   "cell_type": "code",
   "execution_count": null,
   "id": "ad39b30d",
   "metadata": {},
   "outputs": [],
   "source": []
  }
 ],
 "metadata": {
  "kernelspec": {
   "display_name": "Python 3",
   "language": "python",
   "name": "python3"
  },
  "language_info": {
   "codemirror_mode": {
    "name": "ipython",
    "version": 3
   },
   "file_extension": ".py",
   "mimetype": "text/x-python",
   "name": "python",
   "nbconvert_exporter": "python",
   "pygments_lexer": "ipython3",
   "version": "3.7.6"
  }
 },
 "nbformat": 4,
 "nbformat_minor": 5
}
